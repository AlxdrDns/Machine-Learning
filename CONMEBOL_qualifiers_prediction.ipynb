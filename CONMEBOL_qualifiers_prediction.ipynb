{
 "cells": [
  {
   "cell_type": "code",
   "execution_count": 2,
   "metadata": {},
   "outputs": [],
   "source": [
    "import pandas as pd\n",
    "import numpy as np\n",
    "import matplotlib.pyplot as plt\n",
    "from sklearn import linear_model\n",
    "from sklearn.model_selection import train_test_split\n",
    "from sklearn.metrics import confusion_matrix, roc_curve, roc_auc_score\n",
    "from sklearn.pipeline import Pipeline\n",
    "from sklearn.preprocessing import PolynomialFeatures"
   ]
  },
  {
   "cell_type": "code",
   "execution_count": null,
   "metadata": {},
   "outputs": [],
   "source": [
    "\"\"\"Los dataset que voy a utilizar son tres (selecciones, partidos y copa). Estos corresponden a datos estadísticos de \n",
    "selecciones de fútbol sudamericanas y dos selecciones invitadas no pertenecientes a la CONMEBOL que participaron en \n",
    "la Copa América 2019. Estas estadísticas principalmente son: su ranking en la FIFA, las estadísticas de sus jugadores y \n",
    "los resultados obtenidos en los últimos partidos disputados entre ellos. \n",
    "Estos dataset fueron obtenidos mediante Kaggle.com. El objetivo es predecir la clasificatoria al Mundial de Fútbol\n",
    "de las selecciones sudamericanas en base a esta información. Para esto, se desarrollará un modelo de predicción basado en \n",
    "una regresión logística y las variables a utilizar para este modelo serán: su ranking en la FIFA, la estadística de sus \n",
    "jugadores y los resultados obtenidos en sus últimos partidos. Finalmente, la predicción se realizará en los partidos en \n",
    "la modalidad todos contra todos y se armará en base a sus resultados una tabla de posiciones con los puntos obtenidos en sus\n",
    "respectivos partidos.\"\"\""
   ]
  },
  {
   "cell_type": "code",
   "execution_count": 3,
   "metadata": {},
   "outputs": [
    {
     "data": {
      "text/plain": [
       "0      Argentina\n",
       "1      Argentina\n",
       "2      Argentina\n",
       "3      Argentina\n",
       "4      Argentina\n",
       "         ...    \n",
       "269    Venezuela\n",
       "270    Venezuela\n",
       "271    Venezuela\n",
       "272    Venezuela\n",
       "273    Venezuela\n",
       "Name: seleccion, Length: 230, dtype: object"
      ]
     },
     "execution_count": 3,
     "metadata": {},
     "output_type": "execute_result"
    }
   ],
   "source": [
    "equipos = pd.read_csv('./selecciones.csv') #Cargo mi dataset selecciones.csv\n",
    "equipos.columns.values #Muestro los nombres de las columnas de mi fichero selecciones.csv\n",
    "#Al tratarse de un dataset de los equipos que participaban en la Copa América Brasil 2019, es necesario filtrar las filas\n",
    "#que contengan información de Japón y Qatar ya que no son equipos sudamericanos.\n",
    "#Para esto eliminamos las filas que contengan el valor Japon o Qatar de la columna seleccion.\n",
    "equipos = equipos.drop(equipos[equipos['seleccion'] == \"Japon\"].index)\n",
    "equipos = equipos.drop(equipos[equipos['seleccion'] == \"Qatar\"].index)\n",
    "equipos['seleccion'] #Imprimo la columna seleccion para verificar que ya no exista valores de Japon y Qatar"
   ]
  },
  {
   "cell_type": "code",
   "execution_count": 4,
   "metadata": {},
   "outputs": [
    {
     "data": {
      "text/plain": [
       "0        Uruguay\n",
       "1      Venezuela\n",
       "2      Argentina\n",
       "3       Colombia\n",
       "4        Ecuador\n",
       "         ...    \n",
       "907        Chile\n",
       "908    Argentina\n",
       "909    Venezuela\n",
       "910     Colombia\n",
       "911      Bolivia\n",
       "Name: visitante, Length: 856, dtype: object"
      ]
     },
     "execution_count": 4,
     "metadata": {},
     "output_type": "execute_result"
    }
   ],
   "source": [
    "partidos = pd.read_csv('./partidos.csv') ##Cargo mi dataset partidos.csv\n",
    "partidos.columns.values #Muestro los nombres de las columnas de mi fichero partidos.csv\n",
    "#Al tratarse de un dataset de los equipos que participaban en la Copa América Brasil 2019, es necesario filtrar las filas\n",
    "#que contengan información de Japón y Qatar ya que no son equipos sudamericanos.\n",
    "#Para esto eliminamos las filas que contengan el valor Japon o Qatar de las columnas local y visitante.\n",
    "partidos = partidos.drop(partidos[partidos['local'] == \"Japon\"].index)\n",
    "partidos = partidos.drop(partidos[partidos['local'] == \"Qatar\"].index)\n",
    "partidos = partidos.drop(partidos[partidos['visitante'] == \"Japon\"].index)\n",
    "partidos = partidos.drop(partidos[partidos['visitante'] == \"Qatar\"].index)\n",
    "partidos['local'] #Imprimo la columna local para verificar que ya no exista valores de Japon y Qatar\n",
    "partidos['visitante'] #Imprimo la columna visitante para verificar que ya no exista valores de Japon y Qatar"
   ]
  },
  {
   "cell_type": "code",
   "execution_count": 5,
   "metadata": {},
   "outputs": [
    {
     "data": {
      "text/plain": [
       "0      80.0\n",
       "1      72.0\n",
       "2      80.0\n",
       "3      74.0\n",
       "4      80.0\n",
       "       ... \n",
       "269    65.0\n",
       "270    62.0\n",
       "271    67.0\n",
       "272    69.0\n",
       "273    77.0\n",
       "Name: Overall, Length: 230, dtype: float64"
      ]
     },
     "execution_count": 5,
     "metadata": {},
     "output_type": "execute_result"
    }
   ],
   "source": [
    "equipos['Overall'] = equipos['Overall'].fillna(65) #Completo la columna Overall con valor null y asigno el valor 65\n",
    "equipos['Overall'] #Imprimo la columna Overall para verificar que se hayan llenado los datos con valor null"
   ]
  },
  {
   "cell_type": "code",
   "execution_count": 6,
   "metadata": {},
   "outputs": [],
   "source": [
    "potencial = equipos.groupby('seleccion').mean()['Overall'] #Creo una columna con el valor del potencial promedio del equipo en base a sus jugadores\n",
    "partidos = partidos.merge(potencial, left_on=['local'], right_on=['seleccion']) #Agrego el valor del potencial de cada selección al dataset partidos en base al valor de la columna local\n",
    "partidos = partidos.merge(potencial, left_on=['visitante'], right_on=['seleccion'], suffixes=('_local', '_visitante')) #Agrego el valor del potencial de cada selección al dataset partidos en base al valor de la columna visitante\n",
    "partidos['dif_potencial'] = partidos['Overall_local'] - partidos['Overall_visitante'] #Agrego una columna con el valor de la diferencia de potencial entre los equipos"
   ]
  },
  {
   "cell_type": "code",
   "execution_count": 7,
   "metadata": {},
   "outputs": [
    {
     "data": {
      "image/png": "[encoded data removed]",
      "text/plain": [
       "<Figure size 640x480 with 1 Axes>"
      ]
     },
     "metadata": {},
     "output_type": "display_data"
    }
   ],
   "source": [
    "plot = potencial.sort_values( ascending=False).plot(kind='bar') #Obtengo la gráfica del potencial de cada seleccióm"
   ]
  },
  {
   "cell_type": "code",
   "execution_count": 9,
   "metadata": {},
   "outputs": [
    {
     "name": "stderr",
     "output_type": "stream",
     "text": [
      "c:\\Users\\Alexander Dueñas\\AppData\\Local\\Programs\\Python\\Python310\\lib\\site-packages\\sklearn\\linear_model\\_logistic.py:444: ConvergenceWarning: lbfgs failed to converge (status=1):\n",
      "STOP: TOTAL NO. of ITERATIONS REACHED LIMIT.\n",
      "\n",
      "Increase the number of iterations (max_iter) or scale the data as shown in:\n",
      "    https://scikit-learn.org/stable/modules/preprocessing.html\n",
      "Please also refer to the documentation for alternative solver options:\n",
      "    https://scikit-learn.org/stable/modules/linear_model.html#logistic-regression\n",
      "  n_iter_i = _check_optimize_result(\n"
     ]
    }
   ],
   "source": [
    "x, y = partidos.loc[:,['ranking_local', 'dif_ranking', 'dif_potencial']], partidos['gana_local'] #Se va a utilizar un modelo de regresión logística para la predicción de resultados y los datos para entrenar el modelo serán su ranking local y FIFA, y el potencial de los jugadores de las selecciones.\n",
    "x_train, x_test, y_train, y_test = train_test_split(x, y, test_size=0.33, random_state=42)\n",
    "\n",
    "logreg = linear_model.LogisticRegression(solver='lbfgs', C=1e-5)\n",
    "features = PolynomialFeatures(degree=2)\n",
    "model = Pipeline([('polynomial_features', features), ('logistic_regression', logreg)])\n",
    "model = model.fit(x_train, y_train)"
   ]
  },
  {
   "cell_type": "code",
   "execution_count": 10,
   "metadata": {},
   "outputs": [
    {
     "data": {
      "image/png": "[encoded data removed]",
      "text/plain": [
       "<Figure size 1500x500 with 1 Axes>"
      ]
     },
     "metadata": {},
     "output_type": "display_data"
    }
   ],
   "source": [
    "fpr, tpr, _ = roc_curve(y_test, model.predict_proba(x_test)[:,1]) #Mediante esta gráfica obtenemos el valor de precisión de nuestro modelo (En nuestro caso es del 71%)\n",
    "plt.figure(figsize=(15,5))\n",
    "ax = plt.subplot(1,3,1)\n",
    "ax.plot([0, 1], [0, 1], 'k--')\n",
    "ax.plot(fpr, tpr)\n",
    "ax.set_title('El valor de precisión del modelo de predicción es {0:0.2}'.format(roc_auc_score(y_test, model.predict_proba(x_test)[:,1])))\n",
    "ax.set_aspect(1)"
   ]
  },
  {
   "cell_type": "code",
   "execution_count": 11,
   "metadata": {},
   "outputs": [
    {
     "data": {
      "text/plain": [
       "0        Brasil\n",
       "1       Bolivia\n",
       "2     Venezuela\n",
       "3          Peru\n",
       "4     Argentina\n",
       "5      Colombia\n",
       "6      Paraguay\n",
       "8       Uruguay\n",
       "9       Ecuador\n",
       "11        Chile\n",
       "Name: equipo, dtype: object"
      ]
     },
     "execution_count": 11,
     "metadata": {},
     "output_type": "execute_result"
    }
   ],
   "source": [
    "copa = pd.read_csv('./copa.csv') #Cargo mi dataset copa.csv\n",
    "copa.columns.values #Muestro los nombres de las columnas de mi fichero copa.csv\n",
    "#Al tratarse de un dataset de los equipos que participaban en la Copa América Brasil 2019, es necesario filtrar las filas\n",
    "#que contengan información de Japón y Qatar ya que no son equipos sudamericanos.\n",
    "#Para esto eliminamos las filas que contengan el valor Japon o Qatar de la columna equipo.\n",
    "copa = copa.drop(copa[copa['equipo'] == \"Japon\"].index)\n",
    "copa = copa.drop(copa[copa['equipo'] == \"Qatar\"].index)\n",
    "copa['equipo'] #Imprimo la columna equipo para verificar que ya no exista valores de Japon y Qatar"
   ]
  },
  {
   "cell_type": "code",
   "execution_count": 12,
   "metadata": {},
   "outputs": [],
   "source": [
    "copa = copa.merge(potencial, left_on=['equipo'], right_on=['seleccion']) #Agrego el valor del potencial de cada selección al dataset copa en base al valor de la columna equipo\n",
    "copa = copa.set_index(['equipo']) #Fijamos como índice del dataframe la columna equipo"
   ]
  },
  {
   "cell_type": "code",
   "execution_count": 13,
   "metadata": {},
   "outputs": [
    {
     "name": "stdout",
     "output_type": "stream",
     "text": [
      "--- Predicción de los partidos de la Eliminatoria Sudamericana ---\n",
      "Brasil vs. Bolivia: Brasil gana con prob de 0.759\n",
      "Brasil vs. Venezuela: Brasil gana con prob de 0.602\n",
      "Brasil vs. Peru: Brasil gana con prob de 0.576\n",
      "Brasil vs. Argentina: empatan\n",
      "Brasil vs. Colombia: empatan\n",
      "Brasil vs. Paraguay: Brasil gana con prob de 0.620\n",
      "Brasil vs. Uruguay: empatan\n",
      "Brasil vs. Ecuador: Brasil gana con prob de 0.704\n",
      "Brasil vs. Chile: empatan\n",
      "Bolivia vs. Venezuela: Venezuela gana con prob de 0.616\n",
      "Bolivia vs. Peru: Peru gana con prob de 0.640\n",
      "Bolivia vs. Argentina: Argentina gana con prob de 0.699\n",
      "Bolivia vs. Colombia: Colombia gana con prob de 0.678\n",
      "Bolivia vs. Paraguay: Paraguay gana con prob de 0.599\n",
      "Bolivia vs. Uruguay: Uruguay gana con prob de 0.699\n",
      "Bolivia vs. Ecuador: empatan\n",
      "Bolivia vs. Chile: Chile gana con prob de 0.678\n",
      "Venezuela vs. Peru: empatan\n",
      "Venezuela vs. Argentina: Argentina gana con prob de 0.571\n",
      "Venezuela vs. Colombia: Colombia gana con prob de 0.559\n",
      "Venezuela vs. Paraguay: empatan\n",
      "Venezuela vs. Uruguay: Uruguay gana con prob de 0.574\n",
      "Venezuela vs. Ecuador: Venezuela gana con prob de 0.587\n",
      "Venezuela vs. Chile: Chile gana con prob de 0.558\n",
      "Peru vs. Argentina: empatan\n",
      "Peru vs. Colombia: empatan\n",
      "Peru vs. Paraguay: empatan\n",
      "Peru vs. Uruguay: empatan\n",
      "Peru vs. Ecuador: Peru gana con prob de 0.596\n",
      "Peru vs. Chile: empatan\n",
      "Argentina vs. Colombia: empatan\n",
      "Argentina vs. Paraguay: Argentina gana con prob de 0.608\n",
      "Argentina vs. Uruguay: empatan\n",
      "Argentina vs. Ecuador: Argentina gana con prob de 0.695\n",
      "Argentina vs. Chile: empatan\n",
      "Colombia vs. Paraguay: Colombia gana con prob de 0.558\n",
      "Colombia vs. Uruguay: empatan\n",
      "Colombia vs. Ecuador: Colombia gana con prob de 0.633\n",
      "Colombia vs. Chile: empatan\n",
      "Paraguay vs. Uruguay: Uruguay gana con prob de 0.595\n",
      "Paraguay vs. Ecuador: Paraguay gana con prob de 0.585\n",
      "Paraguay vs. Chile: Chile gana con prob de 0.575\n",
      "Uruguay vs. Ecuador: Uruguay gana con prob de 0.668\n",
      "Uruguay vs. Chile: empatan\n",
      "Ecuador vs. Chile: Chile gana con prob de 0.646\n"
     ]
    }
   ],
   "source": [
    "#Simulamos la eliminatoria sudamericana, todos contra todos\n",
    "from itertools import combinations\n",
    "\n",
    "margin = 0.05 #Establecemos el margen de error para definir un empate entre dos selecciones\n",
    "\n",
    "copa['puntos'] = 0 #Agregamos la columna puntos que contiene el valor acumulado de puntos obtenidos por cada partido\n",
    "copa['grupo'] = \"A\" #Asignamos el valor de A en la columna grupo de las selecciones para que se enfrenten todos contra todos\n",
    "\n",
    "for grupo in sorted(set(copa['grupo'])):\n",
    "    print(\"--- Predicción de los partidos de la Eliminatoria Sudamericana ---\")\n",
    "    for local, visitante in combinations(copa.query('grupo == \"{}\"'.format(grupo)).index, 2):\n",
    "        print(\"{} vs. {}: \".format(local, visitante), end='')\n",
    "        row = pd.DataFrame(np.array([[np.nan, np.nan, np.nan]]), columns=x_test.columns)\n",
    "        row['ranking_local'] = copa.loc[local, 'ranking FIFA']\n",
    "        opp_rank = copa.loc[visitante, 'ranking FIFA']\n",
    "        local_pot = copa.loc[local, 'Overall']\n",
    "        opp_pot = copa.loc[visitante, 'Overall']\n",
    "        row['dif_ranking'] = row['ranking_local'] - opp_rank \n",
    "        row['dif_potencial'] = local_pot - opp_pot  \n",
    "        local_win_prob = model.predict_proba(row)[:,1][0]\n",
    "        # Asignamos los puntos en base al resultado de los partidos de cada selección\n",
    "        puntos = 0\n",
    "        if local_win_prob <= 0.5 - margin:\n",
    "            print(\"{} gana con prob de {:.3f}\".format(visitante, 1-local_win_prob))\n",
    "            copa.loc[visitante, 'puntos'] += 3\n",
    "        if local_win_prob > 0.5 - margin:\n",
    "            puntos = 1\n",
    "        if local_win_prob >= 0.5 + margin:\n",
    "            puntos = 3\n",
    "            copa.loc[local, 'puntos'] += 3\n",
    "            print(\"{} gana con prob de {:.3f}\".format(local, local_win_prob))\n",
    "        if puntos == 1:\n",
    "            print(\"empatan\")\n",
    "            copa.loc[local, 'puntos'] += 1\n",
    "            copa.loc[visitante, 'puntos'] += 1"
   ]
  },
  {
   "cell_type": "code",
   "execution_count": 14,
   "metadata": {},
   "outputs": [
    {
     "data": {
      "text/html": [
       "<div>\n",
       "<style scoped>\n",
       "    .dataframe tbody tr th:only-of-type {\n",
       "        vertical-align: middle;\n",
       "    }\n",
       "\n",
       "    .dataframe tbody tr th {\n",
       "        vertical-align: top;\n",
       "    }\n",
       "\n",
       "    .dataframe thead th {\n",
       "        text-align: right;\n",
       "    }\n",
       "</style>\n",
       "<table border=\"1\" class=\"dataframe\">\n",
       "  <thead>\n",
       "    <tr style=\"text-align: right;\">\n",
       "      <th></th>\n",
       "      <th>posicion</th>\n",
       "      <th>equipo</th>\n",
       "      <th>puntos</th>\n",
       "    </tr>\n",
       "  </thead>\n",
       "  <tbody>\n",
       "    <tr>\n",
       "      <th>0</th>\n",
       "      <td>1</td>\n",
       "      <td>Brasil</td>\n",
       "      <td>19</td>\n",
       "    </tr>\n",
       "    <tr>\n",
       "      <th>1</th>\n",
       "      <td>2</td>\n",
       "      <td>Argentina</td>\n",
       "      <td>17</td>\n",
       "    </tr>\n",
       "    <tr>\n",
       "      <th>2</th>\n",
       "      <td>3</td>\n",
       "      <td>Colombia</td>\n",
       "      <td>17</td>\n",
       "    </tr>\n",
       "    <tr>\n",
       "      <th>3</th>\n",
       "      <td>4</td>\n",
       "      <td>Uruguay</td>\n",
       "      <td>17</td>\n",
       "    </tr>\n",
       "    <tr>\n",
       "      <th>4</th>\n",
       "      <td>5</td>\n",
       "      <td>Chile</td>\n",
       "      <td>17</td>\n",
       "    </tr>\n",
       "    <tr>\n",
       "      <th>5</th>\n",
       "      <td>6</td>\n",
       "      <td>Peru</td>\n",
       "      <td>12</td>\n",
       "    </tr>\n",
       "    <tr>\n",
       "      <th>6</th>\n",
       "      <td>7</td>\n",
       "      <td>Venezuela</td>\n",
       "      <td>8</td>\n",
       "    </tr>\n",
       "    <tr>\n",
       "      <th>7</th>\n",
       "      <td>8</td>\n",
       "      <td>Paraguay</td>\n",
       "      <td>8</td>\n",
       "    </tr>\n",
       "    <tr>\n",
       "      <th>8</th>\n",
       "      <td>9</td>\n",
       "      <td>Bolivia</td>\n",
       "      <td>1</td>\n",
       "    </tr>\n",
       "    <tr>\n",
       "      <th>9</th>\n",
       "      <td>10</td>\n",
       "      <td>Ecuador</td>\n",
       "      <td>1</td>\n",
       "    </tr>\n",
       "  </tbody>\n",
       "</table>\n",
       "</div>"
      ],
      "text/plain": [
       "   posicion     equipo  puntos\n",
       "0         1     Brasil      19\n",
       "1         2  Argentina      17\n",
       "2         3   Colombia      17\n",
       "3         4    Uruguay      17\n",
       "4         5      Chile      17\n",
       "5         6       Peru      12\n",
       "6         7  Venezuela       8\n",
       "7         8   Paraguay       8\n",
       "8         9    Bolivia       1\n",
       "9        10    Ecuador       1"
      ]
     },
     "execution_count": 14,
     "metadata": {},
     "output_type": "execute_result"
    }
   ],
   "source": [
    "#Permite visualizar la tabla de posiciones de la eliminatoria\n",
    "copa = copa.sort_values('puntos', ascending = False).reset_index()\n",
    "tablaClasificacion = copa.groupby('grupo').nth([0, 1, 2, 3, 4, 5, 6, 7, 8, 9]).reset_index()\n",
    "tablaClasificacion['posicion'] = [1, 2, 3, 4, 5, 6, 7, 8, 9, 10]\n",
    "tablaClasificacion[['posicion', 'equipo', 'puntos']]"
   ]
  },
  {
   "cell_type": "code",
   "execution_count": 15,
   "metadata": {},
   "outputs": [
    {
     "data": {
      "text/html": [
       "<div>\n",
       "<style scoped>\n",
       "    .dataframe tbody tr th:only-of-type {\n",
       "        vertical-align: middle;\n",
       "    }\n",
       "\n",
       "    .dataframe tbody tr th {\n",
       "        vertical-align: top;\n",
       "    }\n",
       "\n",
       "    .dataframe thead th {\n",
       "        text-align: right;\n",
       "    }\n",
       "</style>\n",
       "<table border=\"1\" class=\"dataframe\">\n",
       "  <thead>\n",
       "    <tr style=\"text-align: right;\">\n",
       "      <th></th>\n",
       "      <th>equipo</th>\n",
       "      <th>puntos</th>\n",
       "    </tr>\n",
       "  </thead>\n",
       "  <tbody>\n",
       "    <tr>\n",
       "      <th>0</th>\n",
       "      <td>Brasil</td>\n",
       "      <td>19</td>\n",
       "    </tr>\n",
       "    <tr>\n",
       "      <th>1</th>\n",
       "      <td>Argentina</td>\n",
       "      <td>17</td>\n",
       "    </tr>\n",
       "    <tr>\n",
       "      <th>2</th>\n",
       "      <td>Colombia</td>\n",
       "      <td>17</td>\n",
       "    </tr>\n",
       "    <tr>\n",
       "      <th>3</th>\n",
       "      <td>Uruguay</td>\n",
       "      <td>17</td>\n",
       "    </tr>\n",
       "    <tr>\n",
       "      <th>4</th>\n",
       "      <td>Chile</td>\n",
       "      <td>17</td>\n",
       "    </tr>\n",
       "  </tbody>\n",
       "</table>\n",
       "</div>"
      ],
      "text/plain": [
       "      equipo  puntos\n",
       "0     Brasil      19\n",
       "1  Argentina      17\n",
       "2   Colombia      17\n",
       "3    Uruguay      17\n",
       "4      Chile      17"
      ]
     },
     "execution_count": 15,
     "metadata": {},
     "output_type": "execute_result"
    }
   ],
   "source": [
    "#Agrupamos los 5 mejores clasificados que irían al Mundial\n",
    "clasificados = copa.groupby('grupo').nth([0, 1, 2, 3, 4]).reset_index()\n",
    "clasificados[['equipo', 'puntos']]"
   ]
  }
 ],
 "metadata": {
  "kernelspec": {
   "display_name": "Python 3.10.5 64-bit (system)",
   "language": "python",
   "name": "python3"
  },
  "language_info": {
   "codemirror_mode": {
    "name": "ipython",
    "version": 3
   },
   "file_extension": ".py",
   "mimetype": "text/x-python",
   "name": "python",
   "nbconvert_exporter": "python",
   "pygments_lexer": "ipython3",
   "version": "3.10.5"
  },
  "orig_nbformat": 4,
  "vscode": {
   "interpreter": {
    "hash": "dccfcb9212a532c931437bf04fa1b284db65ecb3d40d647f01fad33d57536df4"
   }
  }
 },
 "nbformat": 4,
 "nbformat_minor": 2
}
